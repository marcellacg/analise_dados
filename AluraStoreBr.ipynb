{
  "cells": [
    {
      "cell_type": "markdown",
      "metadata": {
        "id": "RhEdWd9YUR6H"
      },
      "source": [
        "### Importação dos dados\n",
        "\n"
      ]
    },
    {
      "cell_type": "code",
      "execution_count": 2,
      "metadata": {
        "colab": {
          "base_uri": "https://localhost:8080/",
          "height": 206
        },
        "id": "T3EvaeQ_INIL",
        "outputId": "7194bc65-372c-47e6-cb47-d4bfc9952c91"
      },
      "outputs": [
        {
          "data": {
            "text/html": [
              "<div>\n",
              "<style scoped>\n",
              "    .dataframe tbody tr th:only-of-type {\n",
              "        vertical-align: middle;\n",
              "    }\n",
              "\n",
              "    .dataframe tbody tr th {\n",
              "        vertical-align: top;\n",
              "    }\n",
              "\n",
              "    .dataframe thead th {\n",
              "        text-align: right;\n",
              "    }\n",
              "</style>\n",
              "<table border=\"1\" class=\"dataframe\">\n",
              "  <thead>\n",
              "    <tr style=\"text-align: right;\">\n",
              "      <th></th>\n",
              "      <th>Produto</th>\n",
              "      <th>Categoria do Produto</th>\n",
              "      <th>Preço</th>\n",
              "      <th>Frete</th>\n",
              "      <th>Data da Compra</th>\n",
              "      <th>Vendedor</th>\n",
              "      <th>Local da compra</th>\n",
              "      <th>Avaliação da compra</th>\n",
              "      <th>Tipo de pagamento</th>\n",
              "      <th>Quantidade de parcelas</th>\n",
              "      <th>lat</th>\n",
              "      <th>lon</th>\n",
              "    </tr>\n",
              "  </thead>\n",
              "  <tbody>\n",
              "    <tr>\n",
              "      <th>0</th>\n",
              "      <td>Assistente virtual</td>\n",
              "      <td>eletronicos</td>\n",
              "      <td>219.08</td>\n",
              "      <td>9.249790</td>\n",
              "      <td>16/01/2021</td>\n",
              "      <td>Pedro Gomes</td>\n",
              "      <td>SP</td>\n",
              "      <td>4</td>\n",
              "      <td>cartao_credito</td>\n",
              "      <td>8</td>\n",
              "      <td>-22.19</td>\n",
              "      <td>-48.79</td>\n",
              "    </tr>\n",
              "    <tr>\n",
              "      <th>1</th>\n",
              "      <td>Mesa de jantar</td>\n",
              "      <td>moveis</td>\n",
              "      <td>256.35</td>\n",
              "      <td>11.234305</td>\n",
              "      <td>18/05/2022</td>\n",
              "      <td>Beatriz Moraes</td>\n",
              "      <td>RJ</td>\n",
              "      <td>1</td>\n",
              "      <td>cartao_credito</td>\n",
              "      <td>4</td>\n",
              "      <td>-22.25</td>\n",
              "      <td>-42.66</td>\n",
              "    </tr>\n",
              "    <tr>\n",
              "      <th>2</th>\n",
              "      <td>Jogo de tabuleiro</td>\n",
              "      <td>brinquedos</td>\n",
              "      <td>279.51</td>\n",
              "      <td>21.262681</td>\n",
              "      <td>15/03/2021</td>\n",
              "      <td>João Souza</td>\n",
              "      <td>DF</td>\n",
              "      <td>1</td>\n",
              "      <td>cartao_credito</td>\n",
              "      <td>1</td>\n",
              "      <td>-15.83</td>\n",
              "      <td>-47.86</td>\n",
              "    </tr>\n",
              "    <tr>\n",
              "      <th>3</th>\n",
              "      <td>Micro-ondas</td>\n",
              "      <td>eletrodomesticos</td>\n",
              "      <td>1009.99</td>\n",
              "      <td>54.667344</td>\n",
              "      <td>03/05/2022</td>\n",
              "      <td>João Souza</td>\n",
              "      <td>RS</td>\n",
              "      <td>4</td>\n",
              "      <td>boleto</td>\n",
              "      <td>1</td>\n",
              "      <td>-30.17</td>\n",
              "      <td>-53.50</td>\n",
              "    </tr>\n",
              "    <tr>\n",
              "      <th>4</th>\n",
              "      <td>Cadeira de escritório</td>\n",
              "      <td>moveis</td>\n",
              "      <td>446.99</td>\n",
              "      <td>26.964689</td>\n",
              "      <td>07/11/2020</td>\n",
              "      <td>Larissa Alves</td>\n",
              "      <td>MG</td>\n",
              "      <td>5</td>\n",
              "      <td>boleto</td>\n",
              "      <td>1</td>\n",
              "      <td>-18.10</td>\n",
              "      <td>-44.38</td>\n",
              "    </tr>\n",
              "  </tbody>\n",
              "</table>\n",
              "</div>"
            ],
            "text/plain": [
              "                 Produto Categoria do Produto    Preço      Frete  \\\n",
              "0     Assistente virtual          eletronicos   219.08   9.249790   \n",
              "1         Mesa de jantar               moveis   256.35  11.234305   \n",
              "2      Jogo de tabuleiro           brinquedos   279.51  21.262681   \n",
              "3            Micro-ondas     eletrodomesticos  1009.99  54.667344   \n",
              "4  Cadeira de escritório               moveis   446.99  26.964689   \n",
              "\n",
              "  Data da Compra        Vendedor Local da compra  Avaliação da compra  \\\n",
              "0     16/01/2021     Pedro Gomes              SP                    4   \n",
              "1     18/05/2022  Beatriz Moraes              RJ                    1   \n",
              "2     15/03/2021      João Souza              DF                    1   \n",
              "3     03/05/2022      João Souza              RS                    4   \n",
              "4     07/11/2020   Larissa Alves              MG                    5   \n",
              "\n",
              "  Tipo de pagamento  Quantidade de parcelas    lat    lon  \n",
              "0    cartao_credito                       8 -22.19 -48.79  \n",
              "1    cartao_credito                       4 -22.25 -42.66  \n",
              "2    cartao_credito                       1 -15.83 -47.86  \n",
              "3            boleto                       1 -30.17 -53.50  \n",
              "4            boleto                       1 -18.10 -44.38  "
            ]
          },
          "execution_count": 2,
          "metadata": {},
          "output_type": "execute_result"
        }
      ],
      "source": [
        "import pandas as pd\n",
        "\n",
        "url = \"https://raw.githubusercontent.com/alura-es-cursos/challenge1-data-science/refs/heads/main/base-de-dados-challenge-1/loja_1.csv\"\n",
        "url2 = \"https://raw.githubusercontent.com/alura-es-cursos/challenge1-data-science/refs/heads/main/base-de-dados-challenge-1/loja_2.csv\"\n",
        "url3 = \"https://raw.githubusercontent.com/alura-es-cursos/challenge1-data-science/refs/heads/main/base-de-dados-challenge-1/loja_3.csv\"\n",
        "url4 = \"https://raw.githubusercontent.com/alura-es-cursos/challenge1-data-science/refs/heads/main/base-de-dados-challenge-1/loja_4.csv\"\n",
        "\n",
        "loja = pd.read_csv(url)\n",
        "loja2 = pd.read_csv(url2)\n",
        "loja3 = pd.read_csv(url3)\n",
        "loja4 = pd.read_csv(url4)\n",
        "\n",
        "loja.head()"
      ]
    },
    {
      "cell_type": "markdown",
      "metadata": {
        "id": "X62IW3KFUIYm"
      },
      "source": [
        "# 1. Análise do faturamento\n"
      ]
    },
    {
      "cell_type": "code",
      "execution_count": 3,
      "metadata": {
        "id": "xykobSftV64I"
      },
      "outputs": [],
      "source": [
        "loja[\"Faturamento\"] = loja[\"Preço\"] + loja[\"Frete\"]\n",
        "loja2[\"Faturamento\"] = loja2[\"Preço\"] + loja2[\"Frete\"]\n",
        "loja3[\"Faturamento\"] = loja3[\"Preço\"] + loja3[\"Frete\"]\n",
        "loja4[\"Faturamento\"] = loja4[\"Preço\"] + loja4[\"Frete\"]\n",
        "\n",
        "faturamento_total_loja = loja[\"Faturamento\"].sum()\n",
        "faturamento_total_loja2 = loja2[\"Faturamento\"].sum()\n",
        "faturamento_total_loja3 = loja3[\"Faturamento\"].sum()\n",
        "faturamento_total_loja4 = loja4[\"Faturamento\"].sum()"
      ]
    },
    {
      "cell_type": "code",
      "execution_count": 4,
      "metadata": {
        "id": "KDyr8E71V3m-"
      },
      "outputs": [
        {
          "name": "stdout",
          "output_type": "stream",
          "text": [
            "FATURAMENTO TOTAL DA LOJA 1: R$1,616,347.09\n",
            "FATURAMENTO TOTAL DA LOJA 2: R$1,567,773.22\n",
            "FATURAMENTO TOTAL DA LOJA 3: R$1,542,047.69\n",
            "FATURAMENTO TOTAL DA LOJA 4: R$1,458,253.46\n"
          ]
        }
      ],
      "source": [
        "print(f\"FATURAMENTO TOTAL DA LOJA 1: R${faturamento_total_loja:,.2f}\")\n",
        "print(f\"FATURAMENTO TOTAL DA LOJA 2: R${faturamento_total_loja2:,.2f}\")\n",
        "print(f\"FATURAMENTO TOTAL DA LOJA 3: R${faturamento_total_loja3:,.2f}\")\n",
        "print(f\"FATURAMENTO TOTAL DA LOJA 4: R${faturamento_total_loja4:,.2f}\")"
      ]
    },
    {
      "cell_type": "markdown",
      "metadata": {
        "id": "2V_vcAPzWZmR"
      },
      "source": [
        "# 2. Vendas por Categoria\n"
      ]
    },
    {
      "cell_type": "code",
      "execution_count": 5,
      "metadata": {
        "id": "A34YupIuYhfF"
      },
      "outputs": [
        {
          "name": "stdout",
          "output_type": "stream",
          "text": [
            "VENDAS TOTAIS LOJA 1 POR CATEGORIA\n",
            "Categoria do Produto\n",
            "moveis                   465\n",
            "eletronicos              448\n",
            "brinquedos               324\n",
            "eletrodomesticos         312\n",
            "esporte e lazer          284\n",
            "instrumentos musicais    182\n",
            "livros                   173\n",
            "utilidades domesticas    171\n",
            "Name: count, dtype: int64\n",
            "Vendas totais: 2359\n"
          ]
        }
      ],
      "source": [
        "vendas_por_categoria = loja[\"Categoria do Produto\"].value_counts().sort_values(ascending=False)\n",
        "print(\"VENDAS TOTAIS LOJA 1 POR CATEGORIA\")\n",
        "print(vendas_por_categoria)\n",
        "vendas_totais_categoria = vendas_por_categoria.sum()\n",
        "print(f\"Vendas totais: {vendas_totais_categoria}\")"
      ]
    },
    {
      "cell_type": "code",
      "execution_count": 6,
      "metadata": {
        "id": "yZR6cOjXYSk1"
      },
      "outputs": [
        {
          "name": "stdout",
          "output_type": "stream",
          "text": [
            "VENDAS TOTAIS LOJA 2 POR CATEGORIA\n",
            "Categoria do Produto\n",
            "moveis                   442\n",
            "eletronicos              422\n",
            "brinquedos               313\n",
            "eletrodomesticos         305\n",
            "esporte e lazer          275\n",
            "instrumentos musicais    224\n",
            "livros                   197\n",
            "utilidades domesticas    181\n",
            "Name: count, dtype: int64\n",
            "Vendas totais: 2359\n"
          ]
        }
      ],
      "source": [
        "vendas_por_categoria2 = loja2[\"Categoria do Produto\"].value_counts().sort_values(ascending=False)\n",
        "print(\"VENDAS TOTAIS LOJA 2 POR CATEGORIA\")\n",
        "print(vendas_por_categoria2)\n",
        "vendas_totais_categoria = vendas_por_categoria2.sum()\n",
        "print(f\"Vendas totais: {vendas_totais_categoria}\")"
      ]
    },
    {
      "cell_type": "code",
      "execution_count": 7,
      "metadata": {},
      "outputs": [
        {
          "name": "stdout",
          "output_type": "stream",
          "text": [
            "VENDAS TOTAIS LOJA 3 POR CATEGORIA\n",
            "Categoria do Produto\n",
            "moveis                   499\n",
            "eletronicos              451\n",
            "brinquedos               315\n",
            "eletrodomesticos         278\n",
            "esporte e lazer          277\n",
            "livros                   185\n",
            "instrumentos musicais    177\n",
            "utilidades domesticas    177\n",
            "Name: count, dtype: int64\n",
            "Vendas totais: 2359\n"
          ]
        }
      ],
      "source": [
        "vendas_por_categoria3 = loja3[\"Categoria do Produto\"].value_counts().sort_values(ascending=False)\n",
        "print(\"VENDAS TOTAIS LOJA 3 POR CATEGORIA\")\n",
        "print(vendas_por_categoria3)\n",
        "vendas_totais_categoria = vendas_por_categoria3.sum()\n",
        "print(f\"Vendas totais: {vendas_totais_categoria}\")"
      ]
    },
    {
      "cell_type": "code",
      "execution_count": 8,
      "metadata": {},
      "outputs": [
        {
          "name": "stdout",
          "output_type": "stream",
          "text": [
            "VENDAS TOTAIS LOJA 4 POR CATEGORIA\n",
            "Categoria do Produto\n",
            "moveis                   480\n",
            "eletronicos              451\n",
            "brinquedos               338\n",
            "esporte e lazer          277\n",
            "eletrodomesticos         254\n",
            "utilidades domesticas    201\n",
            "livros                   187\n",
            "instrumentos musicais    170\n",
            "Name: count, dtype: int64\n",
            "Vendas totais: 2358\n"
          ]
        }
      ],
      "source": [
        "vendas_por_categoria4 = loja4[\"Categoria do Produto\"].value_counts().sort_values(ascending=False)\n",
        "print(\"VENDAS TOTAIS LOJA 4 POR CATEGORIA\")\n",
        "print(vendas_por_categoria4)\n",
        "vendas_totais_categoria = vendas_por_categoria4.sum()\n",
        "print(f\"Vendas totais: {vendas_totais_categoria}\")"
      ]
    },
    {
      "cell_type": "markdown",
      "metadata": {
        "id": "Rq6tU_xSY3jk"
      },
      "source": [
        "# 3. Média de Avaliação das Lojas"
      ]
    },
    {
      "cell_type": "code",
      "execution_count": 9,
      "metadata": {
        "id": "bh3jjjJwY5MU"
      },
      "outputs": [],
      "source": [
        "media_avaliacao = loja[\"Avaliação da compra\"].mean()\n",
        "media_avaliacao2 = loja2[\"Avaliação da compra\"].mean()\n",
        "media_avaliacao3 = loja3[\"Avaliação da compra\"].mean()\n",
        "media_avaliacao4 = loja4[\"Avaliação da compra\"].mean()"
      ]
    },
    {
      "cell_type": "code",
      "execution_count": 10,
      "metadata": {
        "id": "I0KkjPoTY88F"
      },
      "outputs": [
        {
          "name": "stdout",
          "output_type": "stream",
          "text": [
            "MÉDIA DE AVALIAÇÃO DA LOJA 1: 3.98\n",
            "MÉDIA DE AVALIAÇÃO DA LOJA 2: 4.04\n",
            "MÉDIA DE AVALIAÇÃO DA LOJA 3: 4.05\n",
            "MÉDIA DE AVALIAÇÃO DA LOJA 4: 4.00\n"
          ]
        }
      ],
      "source": [
        "print(f\"MÉDIA DE AVALIAÇÃO DA LOJA 1: {media_avaliacao:,.2f}\")\n",
        "print(f\"MÉDIA DE AVALIAÇÃO DA LOJA 2: {media_avaliacao2:,.2f}\")\n",
        "print(f\"MÉDIA DE AVALIAÇÃO DA LOJA 3: {media_avaliacao3:,.2f}\")\n",
        "print(f\"MÉDIA DE AVALIAÇÃO DA LOJA 4: {media_avaliacao4:,.2f}\")"
      ]
    },
    {
      "cell_type": "markdown",
      "metadata": {
        "id": "DmNp1KPBZCm-"
      },
      "source": [
        "# 4. Produtos Mais e Menos Vendidos"
      ]
    },
    {
      "cell_type": "code",
      "execution_count": 11,
      "metadata": {
        "id": "qoyjqijQZHfF"
      },
      "outputs": [
        {
          "name": "stdout",
          "output_type": "stream",
          "text": [
            "PRODUTO MAIS VENDIDO/CATEGORIA (LOJA 1): ('TV Led UHD 4K', 'eletronicos'). QUANTIDADE: 60\n",
            "PRODUTO MENOS VENDIDO/CATEGORIA (LOJA 1): ('Headset', 'eletronicos'). QUANTIDADE: 33\n"
          ]
        }
      ],
      "source": [
        "vendas_por_produto = loja.groupby('Produto')['Categoria do Produto'].value_counts().sort_values(ascending=False)\n",
        "produto_mais_vendido = vendas_por_produto.index[0]\n",
        "mais_vendido = vendas_por_produto.iloc[0]\n",
        "\n",
        "produto_menos_vendido = vendas_por_produto.index[-1]\n",
        "menos_vendido = vendas_por_produto.iloc[-1]\n",
        "\n",
        "print(f\"PRODUTO MAIS VENDIDO/CATEGORIA (LOJA 1): {produto_mais_vendido}. QUANTIDADE: {mais_vendido}\")\n",
        "print(f\"PRODUTO MENOS VENDIDO/CATEGORIA (LOJA 1): {produto_menos_vendido}. QUANTIDADE: {menos_vendido}\")"
      ]
    },
    {
      "cell_type": "code",
      "execution_count": 12,
      "metadata": {
        "id": "0Sw3sd4IZIGW"
      },
      "outputs": [
        {
          "name": "stdout",
          "output_type": "stream",
          "text": [
            "PRODUTO MAIS VENDIDO/CATEGORIA (LOJA 2): ('Iniciando em programação', 'livros'). QUANTIDADE: 65\n",
            "PRODUTO MENOS VENDIDO/CATEGORIA (LOJA 2): ('Jogo de tabuleiro', 'brinquedos'). QUANTIDADE: 32\n"
          ]
        }
      ],
      "source": [
        "vendas_por_produto = loja2.groupby('Produto')['Categoria do Produto'].value_counts().sort_values(ascending=False)\n",
        "produto_mais_vendido = vendas_por_produto.index[0]\n",
        "mais_vendido = vendas_por_produto.iloc[0]\n",
        "\n",
        "produto_menos_vendido = vendas_por_produto.index[-1]\n",
        "menos_vendido = vendas_por_produto.iloc[-1]\n",
        "\n",
        "print(f\"PRODUTO MAIS VENDIDO/CATEGORIA (LOJA 2): {produto_mais_vendido}. QUANTIDADE: {mais_vendido}\")\n",
        "print(f\"PRODUTO MENOS VENDIDO/CATEGORIA (LOJA 2): {produto_menos_vendido}. QUANTIDADE: {menos_vendido}\")"
      ]
    },
    {
      "cell_type": "code",
      "execution_count": 13,
      "metadata": {},
      "outputs": [
        {
          "name": "stdout",
          "output_type": "stream",
          "text": [
            "PRODUTO MAIS VENDIDO/CATEGORIA (LOJA 3): ('Kit banquetas', 'moveis'). QUANTIDADE: 57\n",
            "PRODUTO MENOS VENDIDO/CATEGORIA (LOJA 3): ('Blocos de montar', 'brinquedos'). QUANTIDADE: 35\n"
          ]
        }
      ],
      "source": [
        "vendas_por_produto = loja3.groupby('Produto')['Categoria do Produto'].value_counts().sort_values(ascending=False)\n",
        "produto_mais_vendido = vendas_por_produto.index[0]\n",
        "mais_vendido = vendas_por_produto.iloc[0]\n",
        "\n",
        "produto_menos_vendido = vendas_por_produto.index[-1]\n",
        "menos_vendido = vendas_por_produto.iloc[-1]\n",
        "\n",
        "print(f\"PRODUTO MAIS VENDIDO/CATEGORIA (LOJA 3): {produto_mais_vendido}. QUANTIDADE: {mais_vendido}\")\n",
        "print(f\"PRODUTO MENOS VENDIDO/CATEGORIA (LOJA 3): {produto_menos_vendido}. QUANTIDADE: {menos_vendido}\")"
      ]
    },
    {
      "cell_type": "code",
      "execution_count": 14,
      "metadata": {},
      "outputs": [
        {
          "name": "stdout",
          "output_type": "stream",
          "text": [
            "PRODUTO MAIS VENDIDO/CATEGORIA (LOJA 4): ('Cama box', 'moveis'). QUANTIDADE: 62\n",
            "PRODUTO MENOS VENDIDO/CATEGORIA (LOJA 4): ('Guitarra', 'instrumentos musicais'). QUANTIDADE: 33\n"
          ]
        }
      ],
      "source": [
        "vendas_por_produto = loja4.groupby('Produto')['Categoria do Produto'].value_counts().sort_values(ascending=False)\n",
        "produto_mais_vendido = vendas_por_produto.index[0]\n",
        "mais_vendido = vendas_por_produto.iloc[0]\n",
        "\n",
        "produto_menos_vendido = vendas_por_produto.index[-1]\n",
        "menos_vendido = vendas_por_produto.iloc[-1]\n",
        "\n",
        "print(f\"PRODUTO MAIS VENDIDO/CATEGORIA (LOJA 4): {produto_mais_vendido}. QUANTIDADE: {mais_vendido}\")\n",
        "print(f\"PRODUTO MENOS VENDIDO/CATEGORIA (LOJA 4): {produto_menos_vendido}. QUANTIDADE: {menos_vendido}\")"
      ]
    },
    {
      "cell_type": "markdown",
      "metadata": {
        "id": "Fl0cGi3bZKqU"
      },
      "source": [
        "# 5. Frete Médio por Loja\n"
      ]
    },
    {
      "cell_type": "code",
      "execution_count": 15,
      "metadata": {
        "id": "S2JeaCykZNy9"
      },
      "outputs": [],
      "source": [
        "media_frete_loja = loja[\"Frete\"].mean()\n",
        "media_frete_loja2 = loja2[\"Frete\"].mean()\n",
        "media_frete_loja3 = loja3[\"Frete\"].mean()\n",
        "media_frete_loja4 = loja4[\"Frete\"].mean()"
      ]
    },
    {
      "cell_type": "code",
      "execution_count": 16,
      "metadata": {
        "id": "0tSdCie9ZQlt"
      },
      "outputs": [
        {
          "name": "stdout",
          "output_type": "stream",
          "text": [
            "MEDIA DE FRETE DA LOJA 1: R$: 34.69 REAIS.\n",
            "MEDIA DE FRETE DA LOJA 2: R$: 33.62 REAIS.\n",
            "MEDIA DE FRETE DA LOJA 3: R$: 33.07 REAIS.\n",
            "MEDIA DE FRETE DA LOJA 4: R$: 31.28 REAIS.\n"
          ]
        }
      ],
      "source": [
        "print(f\"MEDIA DE FRETE DA LOJA 1: R$: {media_frete_loja:,.2f} REAIS.\")\n",
        "print(f\"MEDIA DE FRETE DA LOJA 2: R$: {media_frete_loja2:,.2f} REAIS.\")\n",
        "print(f\"MEDIA DE FRETE DA LOJA 3: R$: {media_frete_loja3:,.2f} REAIS.\")\n",
        "print(f\"MEDIA DE FRETE DA LOJA 4: R$: {media_frete_loja4:,.2f} REAIS.\")"
      ]
    },
    {
      "cell_type": "markdown",
      "metadata": {},
      "source": [
        "# 6. GRÁFICOS\n"
      ]
    },
    {
      "cell_type": "code",
      "execution_count": 18,
      "metadata": {},
      "outputs": [
        {
          "data": {
            "image/png": "[encoded data removed]",
            "text/plain": [
              "<Figure size 800x400 with 1 Axes>"
            ]
          },
          "metadata": {},
          "output_type": "display_data"
        }
      ],
      "source": [
        "import matplotlib.pyplot as plt\n",
        "\n",
        "plt.figure(figsize=(8, 4))\n",
        "plt.title(\"Gráfico 1: Faturamento por loja\")\n",
        "lojas_faturamento_grafico = [\"Loja\", \"Loja2\", \"Loja3\", \"Loja4\"]\n",
        "faturamento_grafico_valores = [1616347.09, 1567773.22, 1542047.69, 1458253.46]\n",
        "plt.plot(lojas_faturamento_grafico, faturamento_grafico_valores)\n",
        "plt.show()\n"
      ]
    },
    {
      "cell_type": "code",
      "execution_count": null,
      "metadata": {},
      "outputs": [
        {
          "data": {
            "image/png": "[encoded data removed]",
            "text/plain": [
              "<Figure size 576x288 with 1 Axes>"
            ]
          },
          "metadata": {},
          "output_type": "display_data"
        }
      ],
      "source": [
        "plt.figure(figsize=(8, 4))\n",
        "plt.title(\"Gráfico 2: Média de Avaliação por loja\")\n",
        "lojas_media_grafico = [\"Loja\", \"Loja2\", \"Loja3\", \"Loja4\"]\n",
        "media_grafico_valores = [3.98, 4.04, 4.05, 4.00]\n",
        "plt.pie(media_grafico_valores, labels=lojas_media_grafico, autopct='%1.2f%%')\n",
        "plt.show()\n"
      ]
    },
    {
      "cell_type": "code",
      "execution_count": null,
      "metadata": {},
      "outputs": [
        {
          "data": {
            "image/png": "[encoded data removed]",
            "text/plain": [
              "<Figure size 576x288 with 1 Axes>"
            ]
          },
          "metadata": {
            "needs_background": "light"
          },
          "output_type": "display_data"
        }
      ],
      "source": [
        "plt.figure(figsize=(8, 4))\n",
        "plt.title(\"Gráfico 3: Média de frete por loja (em reais)\")\n",
        "lojas_frete_grafico = [\"Loja\", \"Loja2\", \"Loja3\", \"Loja4\"]\n",
        "frete_grafico_valores = [34.69, 33.62, 33.07, 31.28]\n",
        "plt.bar(lojas_frete_grafico, frete_grafico_valores)\n",
        "plt.show()"
      ]
    },
    {
      "cell_type": "markdown",
      "metadata": {},
      "source": [
        "# 7. RELATÓRIO\n"
      ]
    },
    {
      "attachments": {
        "image-2.png": {
          "image/png": "[encoded data removed]"
        },
        "image-3.png": {
          "image/png": "[encoded data removed]"
        },
        "image.png": {
          "image/png": "[encoded data removed]"
        }
      },
      "cell_type": "markdown",
      "metadata": {},
      "source": [
        "O seguinte relatório tem por objetivo fazer uma análise do apanhado de dados de quatro lojas que são do senhor João. Ele pretende vender uma delas, e por meio dos resultados da seguinte análise ele terá a possibilidade de fazer sua escolha com maior fundamentação e segurança.\n",
        "\n",
        "Os primeiros dados são referentes ao faturamento de cada uma das lojas. Vê-se que a Loja 1 teve o faturamento total de `R$: 1,616,347.09`, enquanto a Loja 2 teve `R$: 1,567,773.22`; logo em seguida vem a Loja 3 com faturamento de `R$: 1,542,047.69`, e então a Loja 4 com `R$: 1,458,253.46`. Dentre todas as lojas, a Loja 4 fica em último lugar em faturamento, com certa margem de diferença entre a penúltima loja (Loja 3) e que pode ser observada pelo seguinte gráfico:\n",
        "\n",
        "![image.png](attachment:image.png) *(Gráfico 1)*\n",
        "\n",
        "Dentro das vendas por categorias, por mais que a análise tenha sido feita a partir de cada categoria de produtos, o total das três primeiras lojas eram idênticos (tanto as Lojas 1, 2 e 3 apresentaram números totais de 2359 de vendas), enquanto a Loja 4 havia vendido 1 unidade a menos. Nas médias de avaliação, a Loja 1 detém o menor valor das 4 lojas, enquanto a Loja 4 fica como a segunda com menor valor, o que se soma negativamente com os números do faturamento. Abaixo os valores das notas referente a cada uma:\n",
        "\n",
        "![image-2.png](attachment:image-2.png) *(Gráfico 2)*\n",
        "\n",
        "Referente aos fretes de cada loja, o mais caro está com a Loja 1 (`R$: 34.69`), enquanto as Lojas 2 (`R$: 33.62`) e 3 (`R$: 33.07`) têm valores aproximados; o frete mais barato está com a Loja 4 (`R$ 31.28`), abrindo uma vantagem maior dentre as outras métricas.\n",
        "\n",
        "![image-3.png](attachment:image-3.png) *(Gráfico 3)*\n",
        "\n",
        "Vê-se certo equilibro quanto aos resultados de cada tópico, e partindo da última métrica com a Loja 4 possuindo o menor valor de frete, essas médias não cobrem sobre o faturamento total da Loja, logo, a melhor recomendação para o senhor João, seria de vender Loja 4.\n",
        "\n"
      ]
    }
  ],
  "metadata": {
    "colab": {
      "provenance": []
    },
    "kernelspec": {
      "display_name": "venv",
      "language": "python",
      "name": "python3"
    },
    "language_info": {
      "codemirror_mode": {
        "name": "ipython",
        "version": 3
      },
      "file_extension": ".py",
      "mimetype": "text/x-python",
      "name": "python",
      "nbconvert_exporter": "python",
      "pygments_lexer": "ipython3",
      "version": "3.12.1"
    }
  },
  "nbformat": 4,
  "nbformat_minor": 0
}
